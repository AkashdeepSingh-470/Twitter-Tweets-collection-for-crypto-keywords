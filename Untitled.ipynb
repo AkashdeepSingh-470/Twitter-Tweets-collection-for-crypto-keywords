{
 "cells": [
  {
   "cell_type": "code",
   "execution_count": null,
   "id": "a0ff5ac7",
   "metadata": {},
   "outputs": [],
   "source": [
    "import tweepy as tw\n",
    "import pandas as pd\n",
    "import csv\n",
    "import re\n",
    "import time\n",
    "import matplotlib.pyplot as plt\n",
    "from pandas_profiling import ProfileReport"
   ]
  },
  {
   "cell_type": "code",
   "execution_count": null,
   "id": "58631457",
   "metadata": {},
   "outputs": [],
   "source": [
    "consumer_key = 'xxxxxxxxxxxxxxxxxxx'\n",
    "consumer_secret = 'xxxxxxxxxxxxxxxxxxxxxxxxxxxxxxxxxxxxxxxxxxx'\n",
    "access_token = 'xxxxxxxx-xxxxxxxxxxxxxxxxxxxxxxxxxxxxxxxxxxxxxxxxxxx'\n",
    "access_token_secret = 'xxxxxxxxxxxxxxxxxxxxxxxxxxxxxxxxxxxxxxxxxxx'\n",
    "\n",
    "auth = tw.OAuthHandler(consumer_key, consumer_secret)\n",
    "auth.set_access_token(access_token, access_token_secret)\n",
    "api = tw.API(auth, wait_on_rate_limit=True)"
   ]
  },
  {
   "cell_type": "code",
   "execution_count": null,
   "id": "52f0837f",
   "metadata": {},
   "outputs": [],
   "source": [
    "def cleanText(tw):\n",
    "    cleanedText = re.sub(r\"http\\S+\", \"\", tw)\n",
    "    cleanedText = re.sub('@[^\\s]+',\"\", cleanedText)\n",
    "    cleanedText = re.sub(r\"[^a-zA-Z0-9]+\", ' ', cleanedText)\n",
    "    cleanedText = re.sub(r\"\\d+\", ' ', cleanedText)\n",
    "    cleanedText = re.sub(r'\\b\\w{1,2}\\b','',cleanedText)\n",
    "    return cleanedText"
   ]
  },
  {
   "cell_type": "code",
   "execution_count": null,
   "id": "3720771a",
   "metadata": {},
   "outputs": [],
   "source": [
    "wordList = ['#altcoin', '#bitcoin', '#coindesk', '#cryptocurrency', '#gold', '#appl', '#goog', '#yhoo']\n",
    "i = 0\n",
    "while i < len(wordList):\n",
    "    \n",
    "    start = time.time()\n",
    "    print('Started the loop for ' + wordList[i])\n",
    "    \n",
    "    csvFile = open(wordList[i] + \".csv\", 'w', encoding = 'UTF8', newline = '')\n",
    "    writer = csv.DictWriter(csvFile, fieldnames = [\"Tweet_Id\", \"Time_Of_Tweet\", \"User_ID\", \"Tweet_Text\"])\n",
    "    writer.writeheader()\n",
    "    csvWriter = csv.writer(csvFile)\n",
    "    \n",
    "    for tweet in tw.Cursor(api.search, q = wordList[i] + \" -filter:retweets\", rpp = 100, count = 100, lang = \"en\", since = \"2021-07-01\").items(50):\n",
    "        new_text = cleanText(tweet.text)\n",
    "        csvWriter.writerow([tweet.id, tweet.created_at, tweet.user.id, new_text])\n",
    "        #print(tweet.text)   \n",
    "        \n",
    "    end = time.time()\n",
    "    print('Time taken for '+ wordList[i] +' in seconds')\n",
    "    print(end-start)    \n",
    "    print(wordList[i])    \n",
    "    i = i + 1"
   ]
  },
  {
   "cell_type": "code",
   "execution_count": null,
   "id": "6db1224e",
   "metadata": {},
   "outputs": [],
   "source": [
    "wordList = ['#altcoin', '#bitcoin', '#coindesk', '#cryptocurrency', '#gold', '#appl', '#goog', '#yhoo']\n",
    "i = 0\n",
    "while i < len(wordList):\n",
    "    df = pd.read_csv(wordList[i] + \".csv\")  \n",
    "    df['year'] = pd.DatetimeIndex(df['Time_Of_Tweet']).year\n",
    "    df['date'] = pd.DatetimeIndex(df['Time_Of_Tweet']).date\n",
    "    df['month'] = pd.DatetimeIndex(df['Time_Of_Tweet']).month\n",
    "    #print(df.head(2))\n",
    "    tweet_count=df.groupby('date')['Tweet_Id'].nunique()\n",
    "    total_tweet_count=df['Tweet_Id'].nunique()\n",
    "    tweet_count.plot(kind='bar',color='blue',figsize=(5,3))\n",
    "    plt.title(wordList[i])\n",
    "    plt.xlabel('DATE')\n",
    "    plt.ylabel('DAILY NUMBER OF TWEETS')\n",
    "    plt.show()\n",
    "    print(tweet_count)\n",
    "    print(total_tweet_count)\n",
    "    \n",
    "    user_count=df.groupby('date')['User_ID'].nunique()\n",
    "    total_user_count=df['User_ID'].nunique()\n",
    "    user_count.plot(kind='bar',color='red',figsize=(5,3))\n",
    "    plt.title(wordList[i])\n",
    "    plt.xlabel('DATE')\n",
    "    plt.ylabel('DAILY NUMBER OF USERS')         \n",
    "    plt.show()\n",
    "    print(user_count)\n",
    "    print(total_user_count)\n",
    "    i = i + 1"
   ]
  },
  {
   "cell_type": "code",
   "execution_count": null,
   "id": "70b357cd",
   "metadata": {},
   "outputs": [],
   "source": [
    "wordList = ['#altcoin', '#bitcoin', '#coindesk', '#cryptocurrency', '#gold', '#appl', '#goog', '#yhoo']\n",
    "i = 0\n",
    "while i < len(wordList):\n",
    "    print('Started the loop for report of ' + wordList[i])\n",
    "    df = pd.read_csv(wordList[i] + \".csv\") \n",
    "    profile = ProfileReport(df, title=\"Pandas Profiling Report\", explorative=True)\n",
    "    print(profile.to_widgets())\n",
    "    profile.to_file(wordList[i] + \".html\")\n",
    "    i = i + 1"
   ]
  }
 ],
 "metadata": {
  "kernelspec": {
   "display_name": "Python 3",
   "language": "python",
   "name": "python3"
  },
  "language_info": {
   "codemirror_mode": {
    "name": "ipython",
    "version": 3
   },
   "file_extension": ".py",
   "mimetype": "text/x-python",
   "name": "python",
   "nbconvert_exporter": "python",
   "pygments_lexer": "ipython3",
   "version": "3.8.8"
  }
 },
 "nbformat": 4,
 "nbformat_minor": 5
}
